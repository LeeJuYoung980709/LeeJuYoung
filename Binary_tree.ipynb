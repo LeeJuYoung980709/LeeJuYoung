{
  "nbformat": 4,
  "nbformat_minor": 0,
  "metadata": {
    "colab": {
      "name": "Binary_tree.ipynb",
      "provenance": [],
      "authorship_tag": "ABX9TyO9Gvq0I7jL6qKpOlF0Yj5R",
      "include_colab_link": true
    },
    "kernelspec": {
      "name": "python3",
      "display_name": "Python 3"
    }
  },
  "cells": [
    {
      "cell_type": "markdown",
      "metadata": {
        "id": "view-in-github",
        "colab_type": "text"
      },
      "source": [
        "<a href=\"https://colab.research.google.com/github/LeeJuYoung980709/LeeJuYoung/blob/master/Binary_tree.ipynb\" target=\"_parent\"><img src=\"https://colab.research.google.com/assets/colab-badge.svg\" alt=\"Open In Colab\"/></a>"
      ]
    },
    {
      "cell_type": "code",
      "metadata": {
        "id": "ydPWHj4LvpHx",
        "colab_type": "code",
        "colab": {
          "base_uri": "https://localhost:8080/",
          "height": 71
        },
        "outputId": "caa54179-bf52-4678-d4dc-0fb180a977d0"
      },
      "source": [
        "class Node:\n",
        "  \n",
        "  def __init__(self, data):\n",
        "    self.data = data\n",
        "    self.left_child = None\n",
        "    self.right_child = None\n",
        "\n",
        "  def get_left_child(self):\n",
        "    return self.left_child\n",
        "\n",
        "  def get_right_child(self):\n",
        "    return self.right_child\n",
        "\n",
        "  def get_data(self):\n",
        "    return self.data\n",
        "\n",
        "  def set_left_child(self, left_child):\n",
        "    self.left_child = left_child\n",
        "\n",
        "  def set_right_child(self, right_child):\n",
        "    self.right_child = right_child\n",
        "\n",
        "class Binary_tree:\n",
        "\n",
        "  def __init__(self):\n",
        "    self.root = None\n",
        "\n",
        "  def get_root(self):\n",
        "    return self.root\n",
        "\n",
        "  def set_root(self, root):\n",
        "    self.root = root\n",
        "\n",
        "  def pre_order(self, node):\n",
        "    if node is not None:\n",
        "      print(node.get_data(), end=\"  \")\n",
        "      self.pre_order(node.get_left_child())\n",
        "      self.pre_order(node.get_right_child())\n",
        "\n",
        "  def in_order(self, node):\n",
        "    if node is not None:\n",
        "      self.in_order(node.get_left_child())\n",
        "      print(node.get_data(), end=\"  \")\n",
        "      self.in_order(node.get_right_child())\n",
        "\n",
        "  def post_order(self, node):\n",
        "    if node is not None:\n",
        "      self.post_order(node.get_left_child())\n",
        "      self.post_order(node.get_right_child())\n",
        "      print(node.get_data(), end=\"  \")\n",
        "      \n",
        "\n",
        "      \n",
        "\n",
        "      \n",
        "      \n",
        "\n",
        "\n",
        "\n",
        "\n",
        "\n",
        "b_tree = Binary_tree()\n",
        "\n",
        "node_a = Node(\"A\")\n",
        "node_b = Node(\"B\")\n",
        "node_c = Node(\"C\")\n",
        "node_d = Node(\"D\")\n",
        "node_e = Node(\"E\")\n",
        "node_f = Node(\"F\")\n",
        "node_g = Node(\"G\")\n",
        "node_h = Node(\"H\")\n",
        "\n",
        "b_tree.set_root(node_a)\n",
        "\n",
        "node_a.set_left_child(node_b)\n",
        "node_a.set_right_child(node_c)\n",
        "\n",
        "node_b.set_left_child(node_d) \n",
        "node_b.set_right_child(node_e)\n",
        "\n",
        "node_c.set_right_child(node_f)\n",
        "\n",
        "node_d.set_right_child(node_g)\n",
        "\n",
        "node_e.set_left_child(node_h)\n",
        "\n",
        "b_tree.pre_order(b_tree.get_root())\n",
        "print(\"\")\n",
        "\n",
        "b_tree.in_order(b_tree.get_root())\n",
        "print(\"\")\n",
        "\n",
        "b_tree.post_order(b_tree.get_root())\n",
        "print(\"\")"
      ],
      "execution_count": 19,
      "outputs": [
        {
          "output_type": "stream",
          "text": [
            "A  B  D  G  E  H  C  F  \n",
            "D  G  B  H  E  A  C  F  \n",
            "G  D  H  E  B  F  C  A  \n"
          ],
          "name": "stdout"
        }
      ]
    }
  ]
}