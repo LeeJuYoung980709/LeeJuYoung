{
  "nbformat": 4,
  "nbformat_minor": 0,
  "metadata": {
    "colab": {
      "name": "doubly linked list.ipynb",
      "provenance": [],
      "authorship_tag": "ABX9TyOFM1kLrlZB+Q8xvG5vHs+g",
      "include_colab_link": true
    },
    "kernelspec": {
      "name": "python3",
      "display_name": "Python 3"
    }
  },
  "cells": [
    {
      "cell_type": "markdown",
      "metadata": {
        "id": "view-in-github",
        "colab_type": "text"
      },
      "source": [
        "<a href=\"https://colab.research.google.com/github/LeeJuYoung980709/LeeJuYoung/blob/master/doubly_linked_list.ipynb\" target=\"_parent\"><img src=\"https://colab.research.google.com/assets/colab-badge.svg\" alt=\"Open In Colab\"/></a>"
      ]
    },
    {
      "cell_type": "code",
      "metadata": {
        "id": "cgg6zjqQmztc",
        "colab_type": "code",
        "outputId": "7caca0a2-0304-4fc1-c18d-1f5661040afe",
        "colab": {
          "base_uri": "https://localhost:8080/",
          "height": 287
        }
      },
      "source": [
        "class Node:\n",
        "  def __init__(self, data):\n",
        "    self.data = data\n",
        "    self.prev = None\n",
        "    self.next = None\n",
        "\n",
        "  def set_prev(self, prev):\n",
        "    self.prev = prev\n",
        "  \n",
        "  def set_next(self, next):\n",
        "    self.next = next\n",
        "  \n",
        "  def get_data(self):\n",
        "    return self.data\n",
        "  \n",
        "  def get_prev(self):\n",
        "    return self.prev\n",
        "  \n",
        "  def get_next(self):\n",
        "    return self.next\n",
        "\n",
        "class Doubly_linked_list:\n",
        "  \n",
        "  def __init__(self):\n",
        "    self.header = None\n",
        "    self.tail = None\n",
        "    self.size = 0\n",
        "\n",
        "  def print_list(self):\n",
        "    print(\">> current list\")\n",
        "    node = self.header\n",
        "    while node is not None:\n",
        "      print(node.get_data())\n",
        "      node = node.get_next()\n",
        "    print(\">>>>>>>>>>>>>>>>\")\n",
        "\n",
        "  def append(self, data):\n",
        "    new_node = Node(data)\n",
        "    self.size += 1\n",
        "    if self.header is None:\n",
        "      self.header = new_node\n",
        "    else:\n",
        "      self.tail.set_next(new_node)\n",
        "      new_node.set_prev(self.tail)\n",
        "    self.tail = new_node\n",
        "\n",
        "  def search(self, data):\n",
        "    node = self.header\n",
        "    while node is not None:\n",
        "      if node.get_data() == data:\n",
        "        return node\n",
        "      node = node.get_next()\n",
        "    return node\n",
        "\n",
        "  def get_near_by(self, data, scope):\n",
        "    list = []\n",
        "    center = self. search(data)\n",
        "\n",
        "    if center is not None:\n",
        "      count = 0\n",
        "      node = center.get_prev()\n",
        "      while(node is not None and count < scope):\n",
        "        list.append(node)\n",
        "        node = node.get_prev()\n",
        "        count +=1\n",
        "\n",
        "      count = 0\n",
        "      node = center.get_next()\n",
        "      while(node is not None and count < scope):\n",
        "        list.append(node)\n",
        "        node = node.get_prev()\n",
        "        count +=1\n",
        "    return list\n",
        "\n",
        "dll = Doubly_linked_list()\n",
        "dll.append(\"apple\")\n",
        "dll.append(\"kiwi\")\n",
        "dll.append(\"banana\")\n",
        "dll.append(\"melon\")\n",
        "dll.append(\"orange\")\n",
        "dll.append(\"blackberry\")\n",
        "dll.print_list()\n",
        "\n",
        "list = dll.get_near_by(\"banana\", 2)\n",
        "for node in list:\n",
        "  print(node.get_data())\n",
        "print(\"====================================\")\n",
        "list = dll.get_near_by(\"apple\", 3)\n",
        "for node in list:\n",
        "  print(node.get_data())"
      ],
      "execution_count": 0,
      "outputs": [
        {
          "output_type": "stream",
          "text": [
            ">> current list\n",
            "apple\n",
            "kiwi\n",
            "banana\n",
            "melon\n",
            "orange\n",
            "blackberry\n",
            ">>>>>>>>>>>>>>>>\n",
            "kiwi\n",
            "apple\n",
            "melon\n",
            "banana\n",
            "====================================\n",
            "kiwi\n",
            "apple\n"
          ],
          "name": "stdout"
        }
      ]
    }
  ]
}