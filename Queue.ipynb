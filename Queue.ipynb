{
  "nbformat": 4,
  "nbformat_minor": 0,
  "metadata": {
    "colab": {
      "name": "Queue.ipynb",
      "provenance": [],
      "collapsed_sections": [],
      "include_colab_link": true
    },
    "kernelspec": {
      "name": "python3",
      "display_name": "Python 3"
    }
  },
  "cells": [
    {
      "cell_type": "markdown",
      "metadata": {
        "id": "view-in-github",
        "colab_type": "text"
      },
      "source": [
        "<a href=\"https://colab.research.google.com/github/LeeJuYoung980709/LeeJuYoung/blob/master/Queue.ipynb\" target=\"_parent\"><img src=\"https://colab.research.google.com/assets/colab-badge.svg\" alt=\"Open In Colab\"/></a>"
      ]
    },
    {
      "cell_type": "code",
      "metadata": {
        "id": "heHxftgm0C_D",
        "colab_type": "code",
        "outputId": "4996e164-826c-4902-fb3f-bd5b0ddba7f3",
        "colab": {
          "base_uri": "https://localhost:8080/",
          "height": 215
        }
      },
      "source": [
        "class Node:\n",
        "\n",
        "  def __init__(self, data):\n",
        "    self.data = data\n",
        "    self.prev = None\n",
        "    \n",
        "  def get_data(self):\n",
        "    return self.data\n",
        "  \n",
        "  def get_prev(self):\n",
        "    return self.prev\n",
        "  \n",
        "  def set_prev(self, prev):\n",
        "    self.prev = prev\n",
        "    \n",
        "class Queue:\n",
        "\n",
        "  def __init__(self):\n",
        "    self.rear = None\n",
        "    self.front = None\n",
        "    self.size = 0\n",
        "\n",
        "  def enqueue (self, data):\n",
        "    new_node = Node(data)\n",
        "    self.size += 1\n",
        "    if self.rear is None:\n",
        "      self.rear = new_node\n",
        "      self.front = new_node\n",
        "    else:\n",
        "      self.rear.set_prev(new_node)\n",
        "      self.rear = new_node  \n",
        "    \n",
        "  def print_queue (self):\n",
        "    print(\">> current queue\")\n",
        "    node = self.front\n",
        "    while node is not None:\n",
        "      print(node.get_data())\n",
        "      node = node.get_prev()\n",
        "    print(\">>>>>>>>>>>>>>>>\")\n",
        "\n",
        "  def dequeue (self):\n",
        "    node = self.front\n",
        "    if node is not None:\n",
        "      self.front = node.get_prev()\n",
        "      self.size -= 1\n",
        "    return node\n",
        "\n",
        "queue = Queue()\n",
        "queue.enqueue(\"Apple\")\n",
        "queue.enqueue(\"Kiwi\")\n",
        "queue.enqueue(\"Banana\")\n",
        "queue.print_queue()\n",
        "\n",
        "node = queue.dequeue()\n",
        "print(\"Dequeue: \" + node.get_data())\n",
        "node = queue.dequeue()\n",
        "print(\"Dequeue: \" + node.get_data())\n",
        "\n",
        "queue.enqueue(\"Melon\")\n",
        "queue.print_queue()"
      ],
      "execution_count": 8,
      "outputs": [
        {
          "output_type": "stream",
          "text": [
            ">> current queue\n",
            "Apple\n",
            "Kiwi\n",
            "Banana\n",
            ">>>>>>>>>>>>>>>>\n",
            "Dequeue: Apple\n",
            "Dequeue: Kiwi\n",
            ">> current queue\n",
            "Banana\n",
            "Melon\n",
            ">>>>>>>>>>>>>>>>\n"
          ],
          "name": "stdout"
        }
      ]
    }
  ]
}